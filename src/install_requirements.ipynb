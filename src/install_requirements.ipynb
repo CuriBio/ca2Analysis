{
 "cells": [
  {
   "cell_type": "code",
   "execution_count": null,
   "metadata": {},
   "outputs": [],
   "source": [
    "# exectue one of the following pip commands to install the packages required to run ca2 analysis\n",
    "\n",
    "# # install required packages in local user directories (no admin/sudo/root privileges required)\n",
    "!pip install --user --upgrade numpy scipy pandas openpyxl matplotlib\n",
    "\n",
    "# # install required packages for all users\n",
    "# !pip install --upgrade numpy scipy pandas openpyxl matplotlib"
   ]
  }
 ],
 "metadata": {
  "kernelspec": {
   "display_name": "Python 3",
   "language": "python",
   "name": "python3"
  },
  "language_info": {
   "codemirror_mode": {
    "name": "ipython",
    "version": 3
   },
   "file_extension": ".py",
   "mimetype": "text/x-python",
   "name": "python",
   "nbconvert_exporter": "python",
   "pygments_lexer": "ipython3",
   "version": "3.9.7"
  }
 },
 "nbformat": 4,
 "nbformat_minor": 4
}
