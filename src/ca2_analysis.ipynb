{
 "cells": [
  {
   "cell_type": "code",
   "execution_count": null,
   "metadata": {},
   "outputs": [],
   "source": [
    "import os\n",
    "import glob\n",
    "import numpy as np\n",
    "import pandas as pd\n",
    "import matplotlib.pyplot as plt\n",
    "from typing import List, Tuple\n",
    "from ca2_analysis import ca2Data, peakAndTroughIndices, ca2Metrics\n",
    "%matplotlib inline\n",
    "pd.set_option(\"display.precision\", 2)\n",
    "pd.set_option(\"display.expand_frame_repr\", False)"
   ]
  },
  {
   "cell_type": "code",
   "execution_count": null,
   "metadata": {},
   "outputs": [],
   "source": [
    "def contentsOfDir(dir_path: str, search_terms: List[str]) -> Tuple[List[str], List[Tuple[str]]]:\n",
    "  if os.path.isdir(dir_path):\n",
    "    base_dir = dir_path\n",
    "    for search_term in search_terms:\n",
    "      glob_search_term = '*' + search_term + '*'\n",
    "      file_paths = glob.glob(os.path.join(dir_path, glob_search_term))\n",
    "      if len(file_paths) > 0:\n",
    "        break\n",
    "  else:\n",
    "    # presume it's actually a single file path\n",
    "    base_dir = os.path.dirname(dir_path)\n",
    "    file_paths = [dir_path]\n",
    "  files = []\n",
    "  for file_path in file_paths:\n",
    "      file_name, file_extension = os.path.splitext(os.path.basename(file_path))\n",
    "      files.append((file_name, file_extension))\n",
    "  return base_dir, files"
   ]
  },
  {
   "cell_type": "code",
   "execution_count": null,
   "metadata": {},
   "outputs": [],
   "source": [
    "def plotCa2Signals(\n",
    "    time_stamps: np.ndarray,\n",
    "    signal: np.ndarray,\n",
    "    peak_indices: np.ndarray,\n",
    "    trough_indices: np.ndarray,\n",
    "    plot_title: str='',\n",
    "    plot_smoothed_signal: bool=True\n",
    "):\n",
    "    plt.title(plot_title)\n",
    "    if plot_smoothed_signal:\n",
    "        plt.plot(time_stamps, signal)\n",
    "    else:\n",
    "        plt.scatter(time_stamps, signal, s=2, facecolors='none', edgecolors='g')    \n",
    "    plt.scatter(time_stamps[peak_indices], signal[peak_indices], s=80, facecolors='none', edgecolors='b')\n",
    "    plt.scatter(time_stamps[trough_indices], signal[trough_indices], s=80, facecolors='none', edgecolors='r')\n",
    "    plt.show()"
   ]
  },
  {
   "cell_type": "code",
   "execution_count": null,
   "metadata": {},
   "outputs": [],
   "source": [
    "def runTestSuite():\n",
    "    test_dir, test_files = contentsOfDir(dir_path='../test_data', search_terms=['.xlsx'])\n",
    "    for file_name, file_extension in test_files:\n",
    "        time_stamps, input_signal = ca2Data(os.path.join(test_dir, file_name + file_extension))\n",
    "\n",
    "        peak_indices, trough_indices = peakAndTroughIndices(\n",
    "            input_signal,\n",
    "            time_stamps,\n",
    "            expected_frequency_hz=1.0\n",
    "        )\n",
    "\n",
    "        # time_stamps_of_troughs = time_stamps[trough_indices]\n",
    "        # print(f'trough times: {time_stamps_of_troughs}')\n",
    "        # time_stamps_of_peaks = time_stamps[peak_indices]\n",
    "        # print(f'peak times: {time_stamps_of_peaks}')\n",
    "# trough times: [        1.385  2.379  3.29   4.383  5.349  6.232  7.24   8.249  9.384 10.378 11.387 12.382 13.376]\n",
    "# peak times:   [ 0.418  1.427  2.421  3.416  4.425  5.419  6.428  7.423  8.417  9.426 10.42  11.429 12.424 13.418]\n",
    "\n",
    "        # plotCa2Signals(\n",
    "        #     time_stamps, \n",
    "        #     input_signal,\n",
    "        #     peak_indices,\n",
    "        #     trough_indices,\n",
    "        #     file_name\n",
    "        # )\n",
    "\n",
    "        all_metrics = ca2Metrics(\n",
    "            input_signal,\n",
    "            time_stamps,\n",
    "            expected_frequency_hz=1.0\n",
    "        )\n",
    "        print()\n",
    "        print(f'metrics for {file_name}')\n",
    "        for metrics in all_metrics:\n",
    "            p2p_order = metrics['p2p_order']\n",
    "            average_metrics = metrics['mean_metric_data']\n",
    "            print(f'{p2p_order} average metrics: {average_metrics}')\n",
    "        print()"
   ]
  },
  {
   "cell_type": "code",
   "execution_count": null,
   "metadata": {},
   "outputs": [],
   "source": [
    "runTestSuite()"
   ]
  }
 ],
 "metadata": {
  "interpreter": {
   "hash": "767d51c1340bd893661ea55ea3124f6de3c7a262a8b4abca0554b478b1e2ff90"
  },
  "kernelspec": {
   "display_name": "Python 3.9.7 64-bit",
   "name": "python3"
  },
  "language_info": {
   "codemirror_mode": {
    "name": "ipython",
    "version": 3
   },
   "file_extension": ".py",
   "mimetype": "text/x-python",
   "name": "python",
   "nbconvert_exporter": "python",
   "pygments_lexer": "ipython3",
   "version": "3.9.7"
  }
 },
 "nbformat": 4,
 "nbformat_minor": 2
}
