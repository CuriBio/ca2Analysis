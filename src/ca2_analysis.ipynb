{
 "cells": [
  {
   "cell_type": "code",
   "execution_count": 1,
   "metadata": {},
   "outputs": [],
   "source": [
    "from ca2_analysis import analyzeCa2Data\n",
    "\n",
    "# NOTES:\n",
    "#                           A directory name results will be created as a sub directory of wherever the input file/files are\n",
    "#                           and an xlsx file will be created for each input xlsx file that contains the analyzed results.\n",
    "#\n",
    "# path_to_data              Can be one of 'select_file', 'select_dir, or an actual path i.e. '../test_data'\n",
    "# expected_frequency_hz:    Is a guide to assist in picking peaks and troughs. \n",
    "#                           For the purposes of ca2 analysis it should be set to the pacing frquency. \n",
    "#                           if this is not provided, you should provide the two following parameters \n",
    "#                           as an estimate of the expected peak height and width.\n",
    "#                           without expected_frequency_hz or the expected peak height and width\n",
    "#                           it is essentially impossible to know where the peaks and troughs of interest are.\n",
    "# expected_min_peak_width:  \n",
    "# expected_min_peak_height:\n",
    "# display_resultsL          Can be either True or False and turns on or off displaying here, a plot of each input, with\n",
    "#                           the peaks and troughs highlighted and the peak to trough and trough to peak average metrics."
   ]
  },
  {
   "cell_type": "code",
   "execution_count": 2,
   "metadata": {},
   "outputs": [],
   "source": [
    "analyzeCa2Data(\n",
    "    path_to_data = 'select_dir',\n",
    "    expected_frequency_hz = 1.0,\n",
    "    display_results = True\n",
    ")"
   ]
  }
 ],
 "metadata": {
  "interpreter": {
   "hash": "767d51c1340bd893661ea55ea3124f6de3c7a262a8b4abca0554b478b1e2ff90"
  },
  "kernelspec": {
   "display_name": "Python 3.9.7 64-bit",
   "name": "python3"
  },
  "language_info": {
   "codemirror_mode": {
    "name": "ipython",
    "version": 3
   },
   "file_extension": ".py",
   "mimetype": "text/x-python",
   "name": "python",
   "nbconvert_exporter": "python",
   "pygments_lexer": "ipython3",
   "version": "3.9.7"
  }
 },
 "nbformat": 4,
 "nbformat_minor": 2
}
